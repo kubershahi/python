{
 "cells": [
  {
   "cell_type": "markdown",
   "id": "31489b80",
   "metadata": {},
   "source": [
    "## Question 1"
   ]
  },
  {
   "cell_type": "code",
   "execution_count": 75,
   "id": "64336911",
   "metadata": {},
   "outputs": [
    {
     "name": "stdout",
     "output_type": "stream",
     "text": [
      "Group Order:  29\n",
      "1 1\n",
      "2 28\n",
      "3 28\n",
      "4 14\n",
      "5 14\n",
      "6 14\n",
      "7 7\n",
      "8 28\n",
      "9 14\n",
      "10 28\n",
      "11 28\n",
      "12 4\n",
      "13 14\n",
      "14 28\n",
      "15 28\n",
      "16 7\n",
      "17 4\n",
      "18 28\n",
      "19 28\n",
      "20 7\n",
      "21 28\n",
      "22 14\n",
      "23 7\n",
      "24 7\n",
      "25 7\n",
      "26 28\n",
      "27 28\n",
      "28 2\n",
      "7 raised to 7 gives:  1\n"
     ]
    }
   ],
   "source": [
    "p = 29    # 11101 # p-1 = 28\n",
    "\n",
    "q = 7 # divisor of (p-1) > 2\n",
    "\n",
    "\n",
    "Z_29 = Zmod(p)\n",
    "\n",
    "print(\"Group Order: \", Z_29.order())\n",
    "\n",
    "for i in range(1, p):\n",
    "    print(i, Z_29(i).multiplicative_order())\n",
    "\n",
    "print(\"7 raised to 7 gives: \",  (7**7) % 29)\n",
    "\n",
    "# a) 7 has order 7 which is q itself"
   ]
  },
  {
   "cell_type": "code",
   "execution_count": 74,
   "id": "9592740f",
   "metadata": {},
   "outputs": [
    {
     "name": "stdout",
     "output_type": "stream",
     "text": [
      "1 7\n",
      "2 20\n",
      "3 24\n",
      "4 23\n",
      "5 16\n",
      "6 25\n",
      "7 1\n"
     ]
    }
   ],
   "source": [
    "for i in range(7):\n",
    "    print(i+1, (7**(i+1)) % 29)\n",
    "    \n",
    "# b) the elements of subgroup are: 1, 7, 16, 20, 23, 24, 25 where seven is the generator\n",
    "\n",
    "# c) the discrete log problem here is: (29, 7, 7, 25)"
   ]
  },
  {
   "cell_type": "code",
   "execution_count": null,
   "id": "22e78b3e",
   "metadata": {},
   "outputs": [],
   "source": [
    "G = Z_29.unit_group()\n",
    "\n",
    "for i in range(p):\n",
    "    print(Z_29(i))\n",
    "\n",
    "g = Z_29.multiplicative_generator()\n",
    "\n",
    "\n",
    "    \n",
    "# G.inject_variables()\n",
    "\n",
    "# print((f^28).value())"
   ]
  },
  {
   "cell_type": "markdown",
   "id": "12a8003d",
   "metadata": {},
   "source": [
    "## Question 2\n"
   ]
  },
  {
   "cell_type": "code",
   "execution_count": 242,
   "id": "97012e89",
   "metadata": {},
   "outputs": [
    {
     "name": "stdout",
     "output_type": "stream",
     "text": [
      "alpha:  121\n"
     ]
    }
   ],
   "source": [
    "# (p = 479, q = 239, g = 5, h = 110)\n",
    "\n",
    "# print(\"Checking 5 is the generator: \", (5**239) % 479)\n",
    "\n",
    "for i in range(239):\n",
    "    r = (5**(i+1)) % 479\n",
    "    if (r == 110):\n",
    "        print(\"alpha: \", i+1)\n",
    "        \n",
    "\n",
    "# print(\"Checking  alpha: \", (5**121) % 479)\n"
   ]
  },
  {
   "cell_type": "code",
   "execution_count": 325,
   "id": "d0917c10",
   "metadata": {},
   "outputs": [
    {
     "name": "stdout",
     "output_type": "stream",
     "text": [
      "Hash value: 304\n"
     ]
    }
   ],
   "source": [
    "import hashlib\n",
    "\n",
    "p = 479\n",
    "q = 239\n",
    "g = 5\n",
    "h = 110\n",
    "\n",
    "a = 121\n",
    "\n",
    "# a = H.hexdigest()\n",
    "# a_int = int(str(a), 16)\n",
    "# print(a_int % p)\n",
    "\n",
    "H = hashlib.sha256(b'kuber.shahi_asp22@ashoka.edu.in')\n",
    "\n",
    "z = int(str(H.hexdigest()), 16) % p\n",
    "print(\"Hash value:\", z)\n",
    "\n",
    "Zn = Zmod(p)        # additive group of Z_479\n",
    "\n",
    "G = Zn.unit_group() # multiplicative group of Z_479\n",
    "# print(\"Order of G: \", G.order())"
   ]
  },
  {
   "cell_type": "code",
   "execution_count": 326,
   "id": "49b970a8",
   "metadata": {},
   "outputs": [
    {
     "name": "stdout",
     "output_type": "stream",
     "text": [
      "Random Element:  52\n"
     ]
    }
   ],
   "source": [
    "import random \n",
    "\n",
    "# r = G.random_element().value()   ## in multiplicative group mode 479\n",
    "\n",
    "r = random.randint(1,q-1)        # since q = 239 is prime, picking a random element between 1 to 478 suffices\n",
    "print(\"Random Element: \", r)\n"
   ]
  },
  {
   "cell_type": "code",
   "execution_count": 327,
   "id": "bffc7eee",
   "metadata": {},
   "outputs": [
    {
     "name": "stdout",
     "output_type": "stream",
     "text": [
      "c1:  137\n",
      "r-inverse:  23\n",
      "c2:  127\n",
      "c1: 137 c2: 127 \n"
     ]
    }
   ],
   "source": [
    "# Signing using given DSA Key\n",
    "\n",
    "c1 = ((g**r) % p) % q\n",
    "print(\"c1: \", c1)\n",
    "\n",
    "r_inv = inverse_mod(r, q)\n",
    "print(\"r-inverse: \", r_inv)\n",
    "\n",
    "c2 = (r_inv * (z +  a * c1)) % q\n",
    "print(\"c2: \", c2)\n",
    "\n",
    "\n",
    "print(\"c1: %d c2: %d \" % (c1, c2))"
   ]
  },
  {
   "cell_type": "code",
   "execution_count": 329,
   "id": "26252573",
   "metadata": {},
   "outputs": [
    {
     "name": "stdout",
     "output_type": "stream",
     "text": [
      "c2-inverse:  32\n",
      "e1:  168\n",
      "e2:  82\n",
      "Verified\n"
     ]
    }
   ],
   "source": [
    "# Verifying \n",
    "\n",
    "c2_inv = inverse_mod(c2, q)\n",
    "print(\"c2-inverse: \", c2_inv)\n",
    "\n",
    "e1 = (z * c2_inv) % q\n",
    "print(\"e1: \", e1)\n",
    "\n",
    "e2 = (c1 * c2_inv) % q\n",
    "print(\"e2: \", e2)\n",
    "\n",
    "f = (((g**e1) * (h**e2)) % p) % q\n",
    "# print(\"f: \", f)\n",
    "\n",
    "if (f == c1):\n",
    "    print('Verified')\n"
   ]
  },
  {
   "cell_type": "markdown",
   "id": "eb65a3d3",
   "metadata": {},
   "source": [
    "## Question 3"
   ]
  },
  {
   "cell_type": "code",
   "execution_count": 335,
   "id": "b4f03826",
   "metadata": {},
   "outputs": [],
   "source": [
    "p = 29\n",
    "F = Zmod(29)\n",
    "E = EllipticCurve(F, [2, 1])"
   ]
  },
  {
   "cell_type": "code",
   "execution_count": 351,
   "id": "9ad40a33",
   "metadata": {},
   "outputs": [
    {
     "data": {
      "text/plain": [
       "33"
      ]
     },
     "execution_count": 351,
     "metadata": {},
     "output_type": "execute_result"
    }
   ],
   "source": [
    "E.order()"
   ]
  },
  {
   "cell_type": "code",
   "execution_count": 352,
   "id": "366beaf6",
   "metadata": {},
   "outputs": [
    {
     "data": {
      "text/plain": [
       "[(0 : 1 : 0), (0 : 1 : 1), (0 : 28 : 1), (1 : 2 : 1), (1 : 27 : 1), (2 : 10 : 1), (2 : 19 : 1), (3 : 11 : 1), (3 : 18 : 1), (5 : 7 : 1), (5 : 22 : 1), (8 : 6 : 1), (8 : 23 : 1), (9 : 9 : 1), (9 : 20 : 1), (10 : 8 : 1), (10 : 21 : 1), (11 : 7 : 1), (11 : 22 : 1), (12 : 10 : 1), (12 : 19 : 1), (13 : 7 : 1), (13 : 22 : 1), (15 : 10 : 1), (15 : 19 : 1), (19 : 5 : 1), (19 : 24 : 1), (21 : 13 : 1), (21 : 16 : 1), (23 : 11 : 1), (23 : 18 : 1), (25 : 4 : 1), (25 : 25 : 1)]"
      ]
     },
     "execution_count": 352,
     "metadata": {},
     "output_type": "execute_result"
    }
   ],
   "source": [
    "# for i in range(p):\n",
    "#     print(E(i, i))\n",
    "\n",
    "E.points()"
   ]
  },
  {
   "cell_type": "code",
   "execution_count": 369,
   "id": "5d69c1e8",
   "metadata": {},
   "outputs": [
    {
     "name": "stdout",
     "output_type": "stream",
     "text": [
      "(8 : 6 : 1)\n"
     ]
    }
   ],
   "source": [
    "P1 = E(0, 28)\n",
    "P2 = E(1, 2)\n",
    "\n",
    "R = P1 + P2\n",
    "print(R)"
   ]
  },
  {
   "cell_type": "code",
   "execution_count": 370,
   "id": "31bebc05",
   "metadata": {},
   "outputs": [
    {
     "name": "stdout",
     "output_type": "stream",
     "text": [
      "(1 : 2 : 1)\n"
     ]
    }
   ],
   "source": [
    "S = P1 + P1\n",
    "print(S)"
   ]
  },
  {
   "cell_type": "code",
   "execution_count": 385,
   "id": "43475e68",
   "metadata": {},
   "outputs": [
    {
     "name": "stdout",
     "output_type": "stream",
     "text": [
      "7\n"
     ]
    }
   ],
   "source": [
    "g = E(19,5)\n",
    "h = E(3,11)\n",
    "\n",
    "for i in range(11):\n",
    "    p = (i+1)* g\n",
    "    if ( p == h):\n",
    "        print(i+1)\n",
    "        \n",
    "# print(7 * g)"
   ]
  },
  {
   "cell_type": "code",
   "execution_count": null,
   "id": "e84f8ed4",
   "metadata": {},
   "outputs": [],
   "source": []
  },
  {
   "cell_type": "code",
   "execution_count": null,
   "id": "1174a0e6",
   "metadata": {},
   "outputs": [],
   "source": []
  },
  {
   "cell_type": "code",
   "execution_count": null,
   "id": "82e289fe",
   "metadata": {},
   "outputs": [],
   "source": []
  }
 ],
 "metadata": {
  "kernelspec": {
   "display_name": "SageMath 9.5",
   "language": "sage",
   "name": "sagemath-9.5"
  },
  "language_info": {
   "codemirror_mode": {
    "name": "ipython",
    "version": 3
   },
   "file_extension": ".py",
   "mimetype": "text/x-python",
   "name": "python",
   "nbconvert_exporter": "python",
   "pygments_lexer": "ipython3",
   "version": "3.9.9"
  }
 },
 "nbformat": 4,
 "nbformat_minor": 5
}
